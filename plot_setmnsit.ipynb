{
 "cells": [
  {
   "cell_type": "code",
   "execution_count": 1,
   "id": "f8dd9251-1001-4047-84ea-cc1052b84e1e",
   "metadata": {},
   "outputs": [],
   "source": [
    "import torch\n",
    "import json\n",
    "import matplotlib.pyplot as plt\n",
    "from matplotlib import cm\n",
    "import os\n",
    "import ml_collections\n",
    "import numpy as np\n",
    "\n",
    "from data import MNISTSet\n",
    "from torch.utils.data import DataLoader\n",
    "from model import SetFlowModule\n",
    "from config import create_config\n",
    "from flow_matching.path.scheduler import CondOTScheduler, CosineScheduler\n",
    "from flow_matching.path import AffineProbPath\n",
    "from flow_matching.solver import Solver, ODESolver"
   ]
  },
  {
   "cell_type": "code",
   "execution_count": 26,
   "id": "db86675d-1b8a-4a33-acda-354f8e6aa6ef",
   "metadata": {},
   "outputs": [],
   "source": [
    "ckpt_path = \"weights/mnist-20250507-024355/checkpoint-epoch=24-train_loss=0.183433.ckpt\"\n",
    "\n",
    "with open(os.path.join(\n",
    "        os.path.join(os.path.join(*ckpt_path.split(\"/\")[:2])), \"config.json\"), \n",
    "        \"r\"\n",
    "    ) as f:\n",
    "        config_dict = json.load(f)\n",
    "config = ml_collections.ConfigDict(config_dict)\n",
    "\n",
    "mf_vfm_model = SetFlowModule.load_from_checkpoint(\n",
    "    config=config,\n",
    "    strict=False,\n",
    "    checkpoint_path=ckpt_path\n",
    ").to(\"cuda:3\")"
   ]
  },
  {
   "cell_type": "code",
   "execution_count": 3,
   "id": "eccfa0e9-1fe4-49c0-a2db-3efbf2c4680b",
   "metadata": {},
   "outputs": [],
   "source": [
    "dataset = MNISTSet()"
   ]
  },
  {
   "cell_type": "code",
   "execution_count": 73,
   "id": "5c3dac1a-36b4-4ad6-ba8c-cae69e53e8c8",
   "metadata": {},
   "outputs": [
    {
     "data": {
      "text/plain": [
       "<matplotlib.image.AxesImage at 0x7efcdb0e6f00>"
      ]
     },
     "execution_count": 73,
     "metadata": {},
     "output_type": "execute_result"
    },
    {
     "data": {
      "image/png": "[encoded data removed]",
      "text/plain": [
       "<Figure size 640x480 with 1 Axes>"
      ]
     },
     "metadata": {},
     "output_type": "display_data"
    }
   ],
   "source": [
    "dataloader = DataLoader(dataset, batch_size=1, shuffle=True)\n",
    "_, sample, mask = next(iter(dataloader))\n",
    "x, y = sample.unbind(dim=-1)\n",
    "x = (x[mask.bool()].squeeze(0) * 27).cpu().numpy()\n",
    "y = (y[mask.bool()].squeeze(0) * 27).cpu().numpy()\n",
    "\n",
    "image = np.zeros((28, 28), dtype=np.float32)\n",
    "for x, y in zip(x, y):\n",
    "    if 0 <= y < 27 and 0 <= x < 27:\n",
    "        image[int(x), int(y)] = 1.0\n",
    "        \n",
    "plt.imshow(image)"
   ]
  },
  {
   "cell_type": "code",
   "execution_count": 110,
   "id": "f103a940-2b73-4e8f-bae0-ab30a07ff612",
   "metadata": {},
   "outputs": [],
   "source": [
    "# ckpt_path = \"weights/mnist-20250507-024355/checkpoint-epoch=24-train_loss=0.183433.ckpt\"\n",
    "ckpt_path = \"weights/mnist-20250507-025043/checkpoint-epoch=24-train_loss=0.047234.ckpt\"\n",
    "\n",
    "with open(os.path.join(\n",
    "        os.path.join(os.path.join(*ckpt_path.split(\"/\")[:2])), \"config.json\"), \n",
    "        \"r\"\n",
    "    ) as f:\n",
    "        config_dict = json.load(f)\n",
    "config = ml_collections.ConfigDict(config_dict)\n",
    "\n",
    "mf_vfm_model = SetFlowModule.load_from_checkpoint(\n",
    "    config=config,\n",
    "    strict=False,\n",
    "    checkpoint_path=ckpt_path\n",
    ").to(\"cuda:3\")"
   ]
  },
  {
   "cell_type": "code",
   "execution_count": 76,
   "id": "89af0bc1-9e33-4b46-8e3d-5f55703c2d8c",
   "metadata": {},
   "outputs": [
    {
     "data": {
      "text/plain": [
       "<matplotlib.image.AxesImage at 0x7efcdb0752b0>"
      ]
     },
     "execution_count": 76,
     "metadata": {},
     "output_type": "execute_result"
    },
    {
     "data": {
      "image/png": "[encoded data removed]",
      "text/plain": [
       "<Figure size 640x480 with 1 Axes>"
      ]
     },
     "metadata": {},
     "output_type": "display_data"
    }
   ],
   "source": [
    "# out = mf_vfm_model.reconstruct(sample.to(\"cuda:3\"), 342, timesteps=200, attn_mask=mask.to(\"cuda:3\"), mode=\"vfm\")\n",
    "out = mf_vfm_model.reconstruct(sample.to(\"cuda:3\"), 342, timesteps=200, attn_mask=mask.to(\"cuda:3\"), mode=\"cfm\")\n",
    "coords = out[0].detach().cpu().numpy()\n",
    "coords *= 27\n",
    "\n",
    "image = np.zeros((28, 28), dtype=np.float32)\n",
    "for (y, x) in coords.astype(int):\n",
    "    if 0 <= y < 27 and 0 <= x < 27:\n",
    "        image[y, x] = 1.0\n",
    "        \n",
    "plt.imshow(image)"
   ]
  },
  {
   "cell_type": "code",
   "execution_count": 77,
   "id": "3bbdb621-48b6-414f-aa20-4d485b113520",
   "metadata": {},
   "outputs": [],
   "source": [
    "import numpy as np\n",
    "from scipy.spatial import cKDTree, distance_matrix\n",
    "from scipy.optimize import linear_sum_assignment\n",
    "\n",
    "# ---------- low-level distances ------------------------------------------------\n",
    "def chamfer_distance(P: np.ndarray, Q: np.ndarray) -> float:\n",
    "    \"\"\"\n",
    "    Symmetric Chamfer distance (squared ℓ2) between two N×3 point clouds.\n",
    "    \"\"\"\n",
    "    # P,Q shape: [N,3]\n",
    "    tree_P, tree_Q = cKDTree(P), cKDTree(Q)\n",
    "    dPQ, _ = tree_P.query(Q)            # for every q ∈ Q find nearest p ∈ P\n",
    "    dQP, _ = tree_Q.query(P)            # vice-versa\n",
    "    return (dPQ**2).mean() + (dQP**2).mean()\n",
    "\n",
    "\n",
    "def emd_distance(P: np.ndarray, Q: np.ndarray) -> float:\n",
    "    \"\"\"\n",
    "    Exact Earth-Mover’s distance (Wasserstein-1) via the Hungarian algorithm.\n",
    "    Assumes |P| == |Q|; time O(N³).  Use Sinkhorn or PyTorch-EMD for 1k+ points.\n",
    "    \"\"\"\n",
    "    M = distance_matrix(P, Q)           # pairwise ℓ2\n",
    "    row_idx, col_idx = linear_sum_assignment(M)\n",
    "    return M[row_idx, col_idx].mean()\n",
    "\n",
    "# ---------- data-set level helpers --------------------------------------------\n",
    "def _pairwise_distances(A, B, metric):\n",
    "    \"\"\"Return |A|×|B| matrix with metric(ai, bj).\"\"\"\n",
    "    out = np.empty((len(A), len(B)))\n",
    "    for i, a in enumerate(A):\n",
    "        for j, b in enumerate(B):\n",
    "            out[i, j] = metric(a, b)\n",
    "    return out\n",
    "\n",
    "\n",
    "def mmd(gen_set, ref_set, metric):\n",
    "    \"\"\"\n",
    "    Minimum-Matching Distance (MMD).  “Fidelity” – lower is better.\n",
    "    Measures: for every reference shape y ∈ ref find min_x∈gen d(x,y) and average.\n",
    "    \"\"\"\n",
    "    D = _pairwise_distances(ref_set, gen_set, metric)\n",
    "    return D.min(axis=1).mean()\n",
    "\n",
    "\n",
    "def coverage(gen_set, ref_set, metric):\n",
    "    \"\"\"\n",
    "    Coverage (COV).  “Diversity” – higher is better.\n",
    "    Fraction of reference shapes that are the nearest neighbour of some gen shape.\n",
    "    \"\"\"\n",
    "    D = _pairwise_distances(gen_set, ref_set, metric)\n",
    "    nn = D.argmin(axis=1)               # nearest ref for each generated\n",
    "    covered = np.unique(nn).size\n",
    "    return 100.0 * covered / len(ref_set)\n",
    "\n",
    "\n",
    "def one_nna(gen_set, ref_set, metric):\n",
    "    \"\"\"\n",
    "    1-Nearest-Neighbour Accuracy (1-NNA).  “Two-sample test” – *lower* is better.\n",
    "    50 % ≈ indistinguishable, 100 % = perfect separation.\n",
    "    \"\"\"\n",
    "    all_set = gen_set + ref_set\n",
    "    labels   = np.array([0]*len(gen_set) + [1]*len(ref_set))\n",
    "    D = _pairwise_distances(all_set, all_set, metric)\n",
    "    np.fill_diagonal(D, np.inf)         # ignore self-distance\n",
    "    nn = D.argmin(axis=1)\n",
    "    same = (labels == labels[nn]).mean()\n",
    "    return 100.0 * same\n",
    "\n",
    "def sample_cloud(cloud: np.ndarray, k: int = 1024, rng=None) -> np.ndarray:\n",
    "    \"\"\"\n",
    "    Return `k` distinct points chosen uniformly at random from `cloud` (N×3).\n",
    "    If N < k we sample with replacement, otherwise without.\n",
    "    \"\"\"\n",
    "    rng = np.random.default_rng() if rng is None else rng\n",
    "    N = cloud.shape[0]\n",
    "    replace = N < k\n",
    "    idx = rng.choice(N, size=k, replace=replace)\n",
    "    return cloud[idx]"
   ]
  },
  {
   "cell_type": "code",
   "execution_count": 78,
   "id": "404c1f99-f102-40fb-83d6-6fdfd4d6b941",
   "metadata": {},
   "outputs": [],
   "source": [
    "test_data = []\n",
    "for _ in range(50):\n",
    "    dataloader = DataLoader(dataset, batch_size=1, shuffle=True)\n",
    "    _, sample, mask = next(iter(dataloader))\n",
    "    x, y = sample.unbind(dim=-1)\n",
    "    x = (x[mask.bool()].squeeze(0) * 27).cpu().numpy()\n",
    "    y = (y[mask.bool()].squeeze(0) * 27).cpu().numpy()\n",
    "    test_data.append((sample, mask))"
   ]
  },
  {
   "cell_type": "code",
   "execution_count": 111,
   "id": "72274991-7aaf-489b-a450-e76d6b47e5ad",
   "metadata": {},
   "outputs": [
    {
     "name": "stderr",
     "output_type": "stream",
     "text": [
      "100%|██████████████████████████████████████████████████████████████████████████████████████████████████████████| 50/50 [02:09<00:00,  2.58s/it]\n"
     ]
    }
   ],
   "source": [
    "from tqdm import tqdm\n",
    "gen_data = []\n",
    "for sample, mask in tqdm(test_data):\n",
    "    out = mf_vfm_model.reconstruct(sample.to(\"cuda:3\"), 342, timesteps=200, attn_mask=mask.to(\"cuda:3\"), mode=\"cfm\")\n",
    "    coords = out[0].detach().cpu().numpy()\n",
    "    # print(coords[mask[0]].shape)\n",
    "    gen_data.append(coords[mask[0]])"
   ]
  },
  {
   "cell_type": "code",
   "execution_count": 112,
   "id": "c31c1b28-8ef3-4009-bf6a-8362fa7cd534",
   "metadata": {},
   "outputs": [],
   "source": [
    "# gen_1k = np.array(gen_data)\n",
    "ref_1k = [s[m].cpu().numpy() for s, m in test_data]"
   ]
  },
  {
   "cell_type": "code",
   "execution_count": 113,
   "id": "9dba6f08-ca64-48e4-a598-19af74e89931",
   "metadata": {},
   "outputs": [],
   "source": [
    "mmd_cd  = mmd(gen_data, ref_1k, chamfer_distance) * 1e3\n",
    "# mmd_emd = mmd(gen_1k, ref_1k, emd_distance)    * 1e2\n",
    "cov_cd  = coverage(gen_data, ref_1k, chamfer_distance)\n",
    "# cov_emd = coverage(gen_1k, ref_1k, emd_distance)\n",
    "nna_cd  = one_nna(gen_data, ref_1k, chamfer_distance)\n",
    "# nna_emd = one_nna(gen_1k, ref_1k, emd_distance)"
   ]
  },
  {
   "cell_type": "code",
   "execution_count": 115,
   "id": "83e7adfa-b485-45f7-8a0e-b5f95570d5b5",
   "metadata": {},
   "outputs": [
    {
     "name": "stdout",
     "output_type": "stream",
     "text": [
      "cfm mmd_cd:  3.5135862215540468\n",
      "cfm cov_cd:  30.0\n",
      "cfm nna_cd:  92.0\n"
     ]
    }
   ],
   "source": [
    "print(\"cfm mmd_cd: \", mmd_cd)\n",
    "print(\"cfm cov_cd: \", cov_cd)\n",
    "print(\"cfm nna_cd: \", nna_cd)"
   ]
  },
  {
   "cell_type": "code",
   "execution_count": null,
   "id": "f46e7f4f-5c07-46ea-b74f-cf5511e38006",
   "metadata": {},
   "outputs": [],
   "source": []
  }
 ],
 "metadata": {
  "kernelspec": {
   "display_name": "msaflow",
   "language": "python",
   "name": "msaflow"
  },
  "language_info": {
   "codemirror_mode": {
    "name": "ipython",
    "version": 3
   },
   "file_extension": ".py",
   "mimetype": "text/x-python",
   "name": "python",
   "nbconvert_exporter": "python",
   "pygments_lexer": "ipython3",
   "version": "3.12.9"
  }
 },
 "nbformat": 4,
 "nbformat_minor": 5
}
